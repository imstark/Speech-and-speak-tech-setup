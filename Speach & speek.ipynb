{
 "cells": [
  {
   "cell_type": "code",
   "execution_count": 1,
   "metadata": {},
   "outputs": [],
   "source": [
    "import pyttsx3\n",
    "import speech_recognition as sr\n",
    "import socket"
   ]
  },
  {
   "cell_type": "code",
   "execution_count": 2,
   "metadata": {},
   "outputs": [],
   "source": [
    "engine =  pyttsx3.init()\n",
    "mic = sr.Microphone()\n",
    "rec = sr.Recognizer()\n",
    "s = socket.socket()\n",
    "ip=\"192.168.43.240\"\n",
    "port=18999"
   ]
  },
  {
   "cell_type": "code",
   "execution_count": 4,
   "metadata": {},
   "outputs": [],
   "source": [
    "s.connect((ip,port))"
   ]
  },
  {
   "cell_type": "code",
   "execution_count": 5,
   "metadata": {},
   "outputs": [
    {
     "name": "stdout",
     "output_type": "stream",
     "text": [
      "\n",
      "Press 1: to see date\n",
      "Press 2: to calendar\n",
      "\n",
      "enter your choice : say :\n",
      "identify children executive calendar\n",
      "not understand\n"
     ]
    },
    {
     "ename": "NameError",
     "evalue": "name 'ch' is not defined",
     "output_type": "error",
     "traceback": [
      "\u001b[1;31m---------------------------------------------------------------------------\u001b[0m",
      "\u001b[1;31mNameError\u001b[0m                                 Traceback (most recent call last)",
      "\u001b[1;32m<ipython-input-5-22ce070b0acf>\u001b[0m in \u001b[0;36m<module>\u001b[1;34m()\u001b[0m\n\u001b[0;32m     27\u001b[0m \u001b[1;33m\u001b[0m\u001b[0m\n\u001b[0;32m     28\u001b[0m \u001b[1;33m\u001b[0m\u001b[0m\n\u001b[1;32m---> 29\u001b[1;33m \u001b[0mch\u001b[0m \u001b[1;33m=\u001b[0m \u001b[0mch\u001b[0m\u001b[1;33m.\u001b[0m\u001b[0mencode\u001b[0m\u001b[1;33m(\u001b[0m\u001b[1;33m)\u001b[0m\u001b[1;33m\u001b[0m\u001b[0m\n\u001b[0m\u001b[0;32m     30\u001b[0m \u001b[0ms\u001b[0m\u001b[1;33m.\u001b[0m\u001b[0msend\u001b[0m\u001b[1;33m(\u001b[0m\u001b[0mch\u001b[0m\u001b[1;33m)\u001b[0m\u001b[1;33m\u001b[0m\u001b[0m\n\u001b[0;32m     31\u001b[0m \u001b[0moutput\u001b[0m \u001b[1;33m=\u001b[0m \u001b[0ms\u001b[0m\u001b[1;33m.\u001b[0m\u001b[0mrecv\u001b[0m\u001b[1;33m(\u001b[0m\u001b[1;36m200\u001b[0m\u001b[1;33m)\u001b[0m\u001b[1;33m\u001b[0m\u001b[0m\n",
      "\u001b[1;31mNameError\u001b[0m: name 'ch' is not defined"
     ]
    }
   ],
   "source": [
    "print(\"\"\"\n",
    "Press 1: to see date\n",
    "Press 2: to calendar\n",
    "\"\"\")\n",
    "\n",
    "print(\"enter your choice : \" , end=\"\")\n",
    "engine.say(\"enter your choice\")\n",
    "engine.runAndWait()\n",
    "\n",
    "with mic as source:\n",
    "    print(\"say :\")\n",
    "    audio = rec.listen(source)\n",
    "    text = rec.recognize_google(audio)\n",
    "    print(text)\n",
    "\n",
    "\n",
    "if \"date\" in text and \"execute\" in text:\n",
    "    ch = \"1\"\n",
    "    print(ch)\n",
    "elif \"calendar\" in text and \"execute\" in text:\n",
    "    ch = \"2\"\n",
    "    print(ch)\n",
    "    \n",
    "else:\n",
    "    print(\"not understand\")\n",
    "\n",
    "\n",
    "\n",
    "ch = ch.encode()\n",
    "s.send(ch)\n",
    "output = s.recv(200)\n",
    "output = output.decode()\n",
    "print(output)\n"
   ]
  },
  {
   "cell_type": "code",
   "execution_count": null,
   "metadata": {},
   "outputs": [],
   "source": []
  }
 ],
 "metadata": {
  "kernelspec": {
   "display_name": "Python 3",
   "language": "python",
   "name": "python3"
  },
  "language_info": {
   "codemirror_mode": {
    "name": "ipython",
    "version": 3
   },
   "file_extension": ".py",
   "mimetype": "text/x-python",
   "name": "python",
   "nbconvert_exporter": "python",
   "pygments_lexer": "ipython3",
   "version": "3.6.4"
  }
 },
 "nbformat": 4,
 "nbformat_minor": 2
}
